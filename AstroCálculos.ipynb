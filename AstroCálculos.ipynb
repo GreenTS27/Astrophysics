{
 "cells": [
  {
   "cell_type": "markdown",
   "metadata": {},
   "source": [
    "# Quick calculations in Astronomy"
   ]
  },
  {
   "cell_type": "markdown",
   "metadata": {},
   "source": [
    "## Libraries"
   ]
  },
  {
   "cell_type": "code",
   "execution_count": 1,
   "metadata": {},
   "outputs": [],
   "source": [
    "import numpy as np\n",
    "import matplotlib.pyplot as plt\n",
    "import scipy.constants as sc\n",
    "import astropy.constants as ast\n",
    "import astropy.units as unidades\n",
    "from IPython.display import display, Math, Latex\n",
    "from icecream import ic\n",
    "import time\n",
    "T0 = time.time()"
   ]
  },
  {
   "cell_type": "markdown",
   "metadata": {},
   "source": [
    "## Constants and Converions "
   ]
  },
  {
   "cell_type": "markdown",
   "metadata": {},
   "source": [
    "| Nome variável | O que representa |                    \n",
    "|---------------|------------------|                    \n",
    "| anos | 1 ano em segundos |                          \n",
    "| au | 1 unidade astronómica em metros |            \n",
    "| pc | 1 parsec em metros |\n",
    "| rTerraEquador | raio Terra Equador em metros |\n",
    "| rTerra Polos | raio Terra Polos metros |\n",
    "| mTerra | massa da Terra em kilos |\n",
    "| m_Jup | massa de Jupiter em kilos |\n",
    "| mSol | massa do Sol em kilos |\n",
    "| mMercurio | massa Mercúrio em kilos |\n",
    "| LSol | Luminosidade do Sol em Watts |"
   ]
  },
  {
   "cell_type": "markdown",
   "metadata": {},
   "source": [
    "| Nome variável   | O que representa |\n",
    "|---------------  |------------------|\n",
    "| g_para_rad      | $x$ graus    * g_para_rad = $x$ radianos |\n",
    "| seg_para_rad    | $x$ segundos * seg_para_rad = $x$ rad |\n",
    "| rad_para_arcsec | $x$ radianos * rad_para_arcsec = $x$ arcsec |\n",
    "| erg_para_J      | $x$ ergs     * erg_para_J = $x$ Joule |"
   ]
  },
  {
   "cell_type": "code",
   "execution_count": 2,
   "metadata": {},
   "outputs": [],
   "source": [
    "\"\"\"\n",
    "Usar sempre unidades SI\n",
    "\"\"\"\n",
    "# Constantes:\n",
    "anos = 365.25*24*60*60              # s\n",
    "au = 1.495978707 * 10 ** 11         # m\n",
    "pc = 206264.8 * au                  # m\n",
    "rTerraEquador = 6.3781 * 10 ** 6    # m\n",
    "rTerraPolos = 6.3568 * 10 ** 6      # m\n",
    "mTerra = 5.972365 * 10 ** 24        # kg\n",
    "M_Jup = 1.898*10**27                # kg\n",
    "mSol = 1.988475 * 10 ** 30          # kg\n",
    "mMercurio = 3.3011 * 10 ** 23       # kg\n",
    "LSol = 3.828 * 10 ** 26             # W\n",
    "\n",
    "# Conversões\n",
    "g_para_rad = np.pi/180              # rad\n",
    "seg_para_rad = np.pi/(180 * 3600)   # rad\n",
    "rad_para_arcsec = 206265            # arcesc\n",
    "erg_para_J = 10**-7                 # J ---> 1 erg = 10**-7 J\n",
    "\n"
   ]
  },
  {
   "cell_type": "markdown",
   "metadata": {},
   "source": [
    "## Functions"
   ]
  },
  {
   "cell_type": "markdown",
   "metadata": {},
   "source": [
    "| Astrofísica                                                   | Funções                           |\n",
    "|---------------------------------------------------------------|-----------------------------------|\n",
    "| 3ª Lei Kepler:                                                | T(m1,m2,a)                      |\n",
    "| Velocidade Apocentro:                                         | v_A(m1,m2,a,e)                  |\n",
    "| Velocidade Pericentro:                                        | v_P(m1,m2,a,e)                  |\n",
    "| Distância a um Foco em função do ângulo:                      | r_Teta(teta,teta_0,a,e)         |\n",
    "| Velocidade Orbial num ponto:                                  | v_Orbital(m1,m2,r,a)            |\n",
    "| Massa de cada estrela num binário:                            | m_Binario(a1,a2,T)              |\n",
    "| magnitude aparente:                                           | m_aparente(m0,b_estrela,b0)     |\n",
    "| Magnitude absoluta:                                           | M_absoluta(mAparente,d)         |\n",
    "| magnitude no topo atmosfera:                                  | m_topo_atm(mz,m0,z)             |\n",
    "| Profundidade ótica:                                           | Profundidade_otica(m0,mEstrela) |\n",
    "| Luminosidade duma estrela:                                    | L_estrela1(Mbol1,Mbol2,L2)      |\n",
    "| Equação de Boltzman:                                          | eq_Boltzman(i,n,X,T)            |\n",
    "| Equação de Saha:                                              | eq_Saha(Z2,Z1,T,Pe,X2)          |\n",
    "| Semi-amplitude de RV:                                         | K(m_star, m_pl, P_pl, e_pl, i, show_eq=True)  |\n",
    "| Roche limit:                                                  | Roche_limit(R_M, rho_M, rho_m, show_eq=True)  |\n",
    "| Probability of planet crossing in front of star:              | Prob_transit(R_star, a_pl)  |\n",
    "| Amplitude of transmission spectroscopy:                       | Amp_trans_spec(R_p, R_star, H, show_eq=True)  |\n",
    "| Photometric (maximum) amplitude of the phase curve variations:| Amp_photometric_signal(R_p, a, Ag, phi_alpha=1, show_eq=True)  |\n",
    "| Astrometric amplitude of around the Center of Mass:           | Amp_astrometric_signal( M_pl, M_star, a, D_system, show_eq=True)  |\n",
    "\n",
    "\n",
    "###\n",
    "| Outros                                                  | Funções                         |\n",
    "|---------------------------------------------------------|---------------------------------|\n",
    "| Ajuste linear / mínimos quadrados:                      | AjusteLinear(x,y)               |\n",
    "| Notação científica:                                     | n_cientifica(valor,alg_sig)     |"
   ]
  },
  {
   "cell_type": "code",
   "execution_count": 3,
   "metadata": {
    "tags": []
   },
   "outputs": [],
   "source": [
    "################# Funções para cálculos em Astrofísica Estrelar ##############################\n",
    "\n",
    "def T(m1,m2,a):\n",
    "    return np.sqrt( 4 * np.pi**2 * a**3 / (sc.G * (m1+m2)) ),\"s\"\n",
    "\n",
    "def v_A(m1,m2,a,e):\n",
    "    return np.sqrt( sc.G * (m1 + m2) * (1 - e) / a / (1 + e)  ) , \"m/s\"\n",
    "\n",
    "def v_P(m1,m2,a,e):\n",
    "    return np.sqrt( sc.G * (m1 + m2) * (1 + e) / a / (1 - e) ) , \"m/s\"\n",
    "\n",
    "def r_Teta(teta,teta_0,a,e):\n",
    "    print(\"Aviso: usa o ângulo em graus\")\n",
    "    return a * (1-e**2) / (1 + e*np.cos(teta*g_para_rad - teta_0*g_para_rad)), 'msm unidades que \"a\" '\n",
    "\n",
    "def v_Orbital(m1,m2,r,a):\n",
    "    return np.sqrt( sc.G*(m1+m2)*(2/r - 1/a) ),\"m/s\"\n",
    "\n",
    "def m_Binario(a1,a2,T):\n",
    "    m1 = 4*np.pi**2/sc.G * (a1+a2)**2/T**2 * a2\n",
    "    m2 = m1 * a1/a2\n",
    "    return print( \"m1 = {}\\nm2 = {}\".format(m1,m2) )\n",
    "\n",
    "def m_aparente(m0,b_estrela,b0):\n",
    "    return m0 - 2.5 * np.log10( b_estrela/b0 )\n",
    "\n",
    "def M_absoluta(mAparente,d):\n",
    "    return mAparente + 5 - 5 * np.log10( d )\n",
    "\n",
    "def m_topo_atm(mz,m0,z):\n",
    "    print(\"Aviso: usa o ângulo z em radianos. \")\n",
    "    return (mz - m0 * 1/np.cos(z)) / (1 - 1/np.cos(z))\n",
    "\n",
    "def Profundidade_otica(m0,mEstrela):\n",
    "    return (m0 - mEstrela) / 1.086\n",
    "\n",
    "def L_estrela1(Mbol1,Mbol2,L2):\n",
    "    L1 = L2 * 10 **((Mbol2 - Mbol1)/2.5)\n",
    "    return print( \"L1  = {} = {} * L2\".format(L1,L1/L2) )\n",
    "\n",
    "def eq_Boltzman(i,n,X,T):\n",
    "    display(Math(r\"Aviso: E_n = - \\frac{X}{n^2}\"))\n",
    "    \"\"\" retorna Ni / Nn\"\"\"\n",
    "    return (i**2 / n**2) * 10**-(-X*(1/i**2 - 1/n**2) * 5040/T)\n",
    "\n",
    "def eq_Saha(Z2,Z1,T,Pe,X2):\n",
    "    return 2 * Z2/Z1 * T**2.5 / Pe * 10**(-X2*5040/T - 0.48)\n"
   ]
  },
  {
   "cell_type": "code",
   "execution_count": 4,
   "metadata": {},
   "outputs": [],
   "source": [
    "############# Functions made for Planetary Systems #############################\n",
    "\n",
    "def K(m_star, m_pl, P_pl, e_pl, i, show_eq=True):\n",
    "    if show_eq == True:\n",
    "        display(Math(r\"K = \\left(\\frac{2\\pi G}{P_{orb}}\\right)^{1/3} \\,\\, \\frac{m_{pl}}{(m_\\star + m_{pl})^{2/3}} \\frac{\\sin i}{\\sqrt{1-e^2}}\"))\n",
    "    return (2*np.pi*sc.G / P_pl)**(1/3) * m_pl/(m_star + m_pl)**(2/3) * np.sin(i) / np.sqrt(1-e_pl**2)\n",
    "\n",
    "def Roche_limit(R_M, rho_M, rho_m, show_eq=True):\n",
    "    Roche_Radius = 2.44 * R_M * (rho_M / rho_m)**(1/3)\n",
    "    if show_eq == True:\n",
    "        display(Math(r\"R_R \\simeq 2,44\\,R_M\\left( \\frac{\\rho_M}{\\rho_m} \\right)^{1/3}\"))\n",
    "        display(Latex(r\"where $M$ represents the more massive body, and $m$ the less massive one\"))\n",
    "    return Roche_Radius\n",
    "\n",
    "def Prob_transit(R_star, a_pl):\n",
    "    return R_star / a_pl\n",
    "\n",
    "def Amp_trans_spec(R_p, R_star, H, show_eq=True):\n",
    "    if show_eq == True:\n",
    "        display(Math(r\"\\Delta \\simeq \\frac{2R_{pl}H}{R_\\star^{\\,2}}   \\quad ,   \\quad \\Delta_{\\text{Full Height}} \\simeq \\frac{2R_{pl}5H}{R_\\star^{\\,2}}\"))\n",
    "    Delta = 2 * R_p * H / R_star**2\n",
    "    Delta_Full_height = 2 * R_p * (5*H) / R_star**2\n",
    "    return Delta, Delta_Full_height\n",
    "\n",
    "def Amp_photometric_signal(R_p, a, Ag, phi_alpha=1, show_eq=True):\n",
    "    if show_eq == True:\n",
    "        display(Math(r\"\\frac{F_P}{F_*} = \\frac{R_P^2}{a^2} A_g \\, \\phi(\\alpha)\"))\n",
    "        display(Latex(r\"A amplitude é máxima quando $\\phi(\\alpha)=1$\"))\n",
    "    Phot_Max_Amp = R_p**2 / a**2 * Ag * phi_alpha\n",
    "    return Phot_Max_Amp\n",
    "\n",
    "def Amp_astrometric_signal( M_pl, M_star, a, D_system, show_eq=True):\n",
    "    if show_eq == True:\n",
    "        display(Math(r\"\\begin{equation}\\Delta \\theta = \\frac{M_p}{M_\\star} \\frac{a_{p}}{d_\\star} \\;\\; [\\text{radian}] \\quad = \\frac{M_p}{M_\\star} \\frac{a_{p}}{d_\\star} \\times 206265 \\;\\; [\\text{arcsec}]\\end{equation}\"))\n",
    "        display(Latex(r\"where $d_\\star$ is the distance from the star to our Solar System.\"))\n",
    "    Delta_Theta = M_pl / M_star * a / D_system\n",
    "    return Delta_Theta, Delta_Theta*rad_para_arcsec\n",
    "\n"
   ]
  },
  {
   "cell_type": "code",
   "execution_count": 5,
   "metadata": {},
   "outputs": [],
   "source": [
    "################## Funções para cálculos matemáticos ###########################\n",
    "\n",
    "def AjusteLinear(x,y): #método mínimos quadrados\n",
    "    print(\"Aviso: x , y são arrays com o mesmo comprimento\")\n",
    "    N = len(x)\n",
    "\n",
    "    Ex = 1/N * sum(x)\n",
    "    Ey = 1/N * sum(y)\n",
    "    Exx = 1/N * sum(x**2)\n",
    "    Exy = 1/N * np.dot(x, y)\n",
    "    m = (Exy - Ex * Ey)/(Exx - Ex**2)\n",
    "    b = (Exx * Ey - Ex * Exy)/(Exx - Ex**2)\n",
    "    \n",
    "    # Gráfico\n",
    "    y_novo = np.empty(N, float)\n",
    "    for i in range(0, N):\n",
    "        y_novo[i] = m * x[i] + b\n",
    "    plt.plot(x, y, 'ko')\n",
    "    plt.plot(x, y_novo, 'k')\n",
    "    plt.xlabel(\"x\")\n",
    "    plt.ylabel(\"y\")\n",
    "    plt.show()\n",
    "    print(\"y = m * x + b    ou    x = (y-b) / m\")\n",
    "    return print(f\"m = {m}\\nb = {b}\")\n",
    "# x_exemplo = np.array([5560,5310] )\n",
    "# y_exemplo = np.array([5.1 , 5.5])\n",
    "# AjusteLinear( x_exemplo , y_exemplo)\n",
    "\n",
    "def n_cientifica(valor,alg_sig):\n",
    "    if valor > 1 or valor < -1:\n",
    "        expoente = len(str(int(valor))) - 1\n",
    "        n_final = int( int(valor) / (10**(expoente-alg_sig+1)) )\n",
    "        resposta = str(n_final)[:1] + \",\" + str(n_final)[1:]\n",
    "    else:\n",
    "        i = 0\n",
    "        while int(valor * 10**i) < 1 and int(valor * 10**i) > -1 :\n",
    "            expoente = -i -1\n",
    "            i += 1\n",
    "        n_final = int(valor * 10**(-expoente+alg_sig-1))\n",
    "        resposta = str(n_final)[:1] + \",\" + str(n_final)[1:]\n",
    "    return \"{} * 10^{}\".format(resposta,expoente)"
   ]
  },
  {
   "cell_type": "markdown",
   "metadata": {},
   "source": [
    "## Programar"
   ]
  },
  {
   "cell_type": "code",
   "execution_count": 18,
   "metadata": {},
   "outputs": [
    {
     "name": "stderr",
     "output_type": "stream",
     "text": [
      "ic| N: 2.242460458551984e+70\n",
      "    b: 3.7449089657818136e+43\n",
      "    c: 18833687264221.47\n",
      "ic| e_ter/l  /anos: 686755505091.4952\n"
     ]
    },
    {
     "name": "stdout",
     "output_type": "stream",
     "text": [
      "  Name   = Boltzmann constant\n",
      "  Value  = 1.380649e-23\n",
      "  Uncertainty  = 0.0\n",
      "  Unit  = J / K\n",
      "  Reference = CODATA 2018\n"
     ]
    },
    {
     "data": {
      "text/plain": [
       "686755505091.4952"
      ]
     },
     "execution_count": 18,
     "metadata": {},
     "output_type": "execute_result"
    }
   ],
   "source": [
    "N = 4/3*np.pi*55*(4.6*10**22)**3\n",
    "b = N * 1.67*10**(-27)\n",
    "c = b / ast.M_sun.value\n",
    "ic(N,b, c)\n",
    "\n",
    "print(ast.k_B)\n",
    "\n",
    "e_ter = 3/2*ast.k_B.value * 7*10**7 * N\n",
    "l = 1.5*10**36\n",
    "ic(e_ter/l  /anos)"
   ]
  },
  {
   "cell_type": "markdown",
   "metadata": {},
   "source": [
    "### Tempo"
   ]
  },
  {
   "cell_type": "code",
   "execution_count": 6,
   "metadata": {},
   "outputs": [
    {
     "name": "stdout",
     "output_type": "stream",
     "text": [
      "O código do notebook inteiro demorou um total de 0.0 min e 0 segundos a correr.\n"
     ]
    }
   ],
   "source": [
    "#################################### Tempo total que o programa demora a correr ############################################\n",
    "t1=time.time()\n",
    "print(\"O código do notebook inteiro demorou um total de {} min e {} segundos a correr.\".format((t1-T0)//60,int((t1-T0)%60)))"
   ]
  }
 ],
 "metadata": {
  "kernelspec": {
   "display_name": "Python 3 (ipykernel)",
   "language": "python",
   "name": "python3"
  },
  "language_info": {
   "codemirror_mode": {
    "name": "ipython",
    "version": 3
   },
   "file_extension": ".py",
   "mimetype": "text/x-python",
   "name": "python",
   "nbconvert_exporter": "python",
   "pygments_lexer": "ipython3",
   "version": "3.9.4"
  },
  "vscode": {
   "interpreter": {
    "hash": "0008f99847e0185881a79e8b572a71d3ac719ff1d1265e893ff7c720a5d12d2f"
   }
  }
 },
 "nbformat": 4,
 "nbformat_minor": 4
}
